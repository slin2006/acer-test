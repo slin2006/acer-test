{
 "cells": [
  {
   "cell_type": "markdown",
   "metadata": {},
   "source": [
    "# ACER Training from Jupyter Notebook\n",
    "\n",
    "This notebook demonstrates how to execute the ACER training script (`main.py`) from within a Jupyter Notebook environment. The script will run as an external process.\n",
    "\n",
    "**Note:** The training process can be lengthy and resource-intensive. The output from the script (including progress and errors) will be displayed below the code cell once executed."
   ]
  },
  {
   "cell_type": "code",
   "execution_count": null,
   "metadata": {},
   "outputs": [],
   "source": [
    "# You can modify the arguments below to change the environment, run name, training steps, etc.\n",
    "# For example, to run for more steps: --T-max 200000\n",
    "# To use a different environment (e.g., LunarLander-v2, requires pip install gym[box2d]): --env LunarLander-v2\n",
    "# Ensure the --name argument is unique for different runs if you want to keep their results separate.\n",
    "\n",
    "!python main.py --env CartPole-v1 --name cartpole_notebook_run --T-max 50000 --num-processes 2 --evaluation-interval 10000"
   ]
  },
  {
   "cell_type": "markdown",
   "metadata": {},
   "source": [
    "## Viewing Results\n",
    "\n",
    "After the script finishes execution (or if you interrupt it), the results, including training logs and plots, will be saved in the `results/` directory.\n",
    "\n",
    "For the example run above, results will be in: `results/cartpole_notebook_run/`\n",
    "\n",
    "The key output to visualize learning progress is `rewards.html`. This is an interactive Plotly graph.\n",
    "\n",
    "**To view the graph:**\n",
    "1.  Navigate to the `results/cartpole_notebook_run/` directory in your file explorer.\n",
    "2.  Open the `rewards.html` file in a web browser.\n",
    "\n",
    "You can also list the contents of the output directory from a notebook cell:"
   ]
  },
  {
   "cell_type": "code",
   "execution_count": null,
   "metadata": {},
   "outputs": [],
   "source": [
    "# Example: List files in the results directory for the run executed above\n",
    "# This might vary depending on your OS and notebook environment.\n",
    "# Adjust the path if needed.\n",
    "\n",
    "import os\n",
    "run_name = \"cartpole_notebook_run\" # Should match the --name argument used above\n",
    "results_dir = os.path.join(\"results\", run_name)\n",
    "\n",
    "if os.path.exists(results_dir):\n",
    "    print(f\"Files in {results_dir}:\")\n",
    "    for item in os.listdir(results_dir):\n",
    "        print(f\"- {item}\")\n",
    "else:\n",
    "    print(f\"Results directory {results_dir} not found. Did the script run correctly and create it?\")\n",
    "\n",
    "# Note: Directly rendering interactive HTML like Plotly graphs within a Jupyter Notebook cell output\n",
    "# from a separate HTML file can be complex and might require IFrames or other libraries.\n",
    "# The simplest way is to open the .html file directly in your browser."
   ]
  }
 ],
 "metadata": {
  "kernelspec": {
   "display_name": "Python 3",
   "language": "python",
   "name": "python3"
  },
  "language_info": {
   "codemirror_mode": {
    "name": "ipython",
    "version": 3
   },
   "file_extension": ".py",
   "mimetype": "text/x-python",
   "name": "python",
   "nbconvert_exporter": "python",
   "pygments_lexer": "ipython3",
   "version": "3.9.17"
  }
 },
 "nbformat": 4,
 "nbformat_minor": 5
}
