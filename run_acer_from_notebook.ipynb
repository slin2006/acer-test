{
 "cells": [
  {
   "cell_type": "markdown",
   "metadata": {},
   "source": [
    "# ACER Training from Jupyter Notebook\n",
    "\n",
    "This notebook demonstrates how to execute the ACER training script (`main.py`) from within a Jupyter Notebook environment. The script will run as an external process.\n",
    "\n",
    "**Note:** The training process can be lengthy and resource-intensive. The output from the script (including progress and errors) will be displayed below the code cell once executed."
   ]
  },
  {
   "cell_type": "code",
   "execution_count": null,
   "metadata": {},
   "outputs": [],
   "source": [
    "# You can modify the arguments below to change the environment, run name, training steps, etc.\n",
    "# For example, to run for more steps: --T-max 200000\n",
    "# To use a different environment (e.g., LunarLander-v2, requires pip install gym[box2d]): --env LunarLander-v2\n",
    "# Ensure the --name argument is unique for different runs if you want to keep their results separate.\n",
    "\n",
    "!python main.py --env CartPole-v1 --name cartpole_notebook_run --T-max 50000 --num-processes 2 --evaluation-interval 10000"
   ]
  },
  {
   "cell_type": "markdown",
   "metadata": {},
   "source": [
    "## Viewing Results\n",
    "\n",
    "After the script finishes execution (or if you interrupt it), the results, including training logs and plots, will be saved in the `results/` directory.\n",
    "\n",
    "For the example run above, results will be in: `results/cartpole_notebook_run/`\n",
    "\n",
    "The key output to visualize learning progress is `rewards.html`. This is an interactive Plotly graph.\n",
    "\n",
    "**To view the graph:**\n",
    "1.  Navigate to the `results/cartpole_notebook_run/` directory in your file explorer.\n",
    "2.  Open the `rewards.html` file in a web browser.\n",
    "\n",
    "You can also list the contents of the output directory from a notebook cell:"
   ]
  },
  {
   "cell_type": "markdown",
   "metadata": {},
   "source": [
    "### Plotting Rewards from CSV\n",
    "\n",
    "The following cell attempts to read the `results.csv` file generated during the training run and plot the average rewards versus timesteps using Matplotlib."
   ]
  },
  {
   "cell_type": "code",
   "execution_count": null,
   "metadata": {},
   "outputs": [],
   "source": [
    "import pandas as pd\n",
    "import matplotlib.pyplot as plt\n",
    "import os\n",
    "\n",
    "# Ensure this matches the --name argument used in the execution cell\n",
    "run_name = \"cartpole_notebook_run\" \n",
    "csv_file_path = os.path.join(\"results\", run_name, \"results.csv\")\n",
    "\n",
    "if os.path.exists(csv_file_path):\n",
    "    try:\n",
    "        # Read the CSV data\n",
    "        df = pd.read_csv(csv_file_path)\n",
    "        \n",
    "        # Ensure the necessary columns exist\n",
    "        if 't' in df.columns and 'rewards' in df.columns:\n",
    "            plt.figure(figsize=(10, 6))\n",
    "            plt.plot(df['t'], df['rewards'], marker='o', linestyle='-')\n",
    "            plt.title(f'Average Reward vs. Timesteps for {run_name}')\n",
    "            plt.xlabel('Timesteps (t)')\n",
    "            plt.ylabel('Average Reward')\n",
    "            plt.grid(True)\n",
    "            plt.show()\n",
    "        else:\n",
    "            print(f\"Columns 't' or 'rewards' not found in {csv_file_path}. Available columns: {df.columns.tolist()}\")\n",
    "\n",
    "    except Exception as e:\n",
    "        print(f\"Error plotting {csv_file_path}: {e}\")\n",
    "else:\n",
    "    print(f\"CSV file not found: {csv_file_path}\")\n",
    "    print(\"Please ensure the training script cell above has been run and completed successfully.\")"
   ]
  }
 ],
 "metadata": {
  "kernelspec": {
   "display_name": "Python 3",
   "language": "python",
   "name": "python3"
  },
  "language_info": {
   "codemirror_mode": {
    "name": "ipython",
    "version": 3
   },
   "file_extension": ".py",
   "mimetype": "text/x-python",
   "name": "python",
   "nbconvert_exporter": "python",
   "pygments_lexer": "ipython3",
   "version": "3.9.17"
  }
 },
 "nbformat": 4,
 "nbformat_minor": 5
}
